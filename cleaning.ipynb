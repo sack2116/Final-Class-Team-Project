{
 "cells": [
  {
   "cell_type": "code",
   "execution_count": 11,
   "metadata": {},
   "outputs": [],
   "source": [
    "import os\n",
    "import pandas as pd\n",
    "import numpy as np\n",
    "from utilities import replaceLyricsChars, load_data, searchLyrics\n",
    "from splitter import join_csv\n",
    "# use >> python splitter.py to join all the lyrics of Resources folder into one file, after you load it, please, delete the lyrics.csv created"
   ]
  },
  {
   "cell_type": "code",
   "execution_count": null,
   "metadata": {},
   "outputs": [],
   "source": [
    "dirty_csv_path = \"./Resources/lyrics.csv\"\n",
    "join_csv(\"./Resources/lyrics_chunks/\", dirty_csv_path)\n",
    "lyrics_df = load_data(dirty_csv_path)\n",
    "\n",
    "# delete the file\n",
    "os.remove(dirty_csv_path)"
   ]
  },
  {
   "cell_type": "code",
   "execution_count": null,
   "metadata": {},
   "outputs": [],
   "source": [
    "lyrics_df.head()"
   ]
  },
  {
   "cell_type": "code",
   "execution_count": 14,
   "metadata": {},
   "outputs": [],
   "source": [
    "def clean_lyrics_df(df):\n",
    "    df = df.dropna()\n",
    "    df['lyrics'] = df['lyrics'].str.lower()\n",
    "    replacements = [\n",
    "        {\"original\": \"n't\", \"replacement\": \" is not\", \"use_regex\": False},\n",
    "        {\"original\": \"\\'\", \"replacement\": \"\", \"use_regex\": False},\n",
    "        {\"original\": \"\\n\", \"replacement\": \" \", \"use_regex\": False},\n",
    "        {\"original\": \"pre-chorus:\", \"replacement\": \" \", \"use_regex\": False},\n",
    "        {\"original\": \"chorus:\", \"replacement\": \" \", \"use_regex\": False},\n",
    "        {\"original\": \"\\d\\w{2} verse:\", \"replacement\": \"\", \"use_regex\": True}, # Any ver text with a number before (1st, 2nd)\n",
    "        {\"original\": \"\\[intro.*\\]\", \"replacement\": \" \", \"use_regex\": True},\n",
    "        {\"original\": \"\\[verse.*\\]\", \"replacement\": \" \", \"use_regex\": True},\n",
    "        {\"original\": \"\\[\\s*\\]\", \"replacement\": \"\", \"use_regex\": True}, # Empty brackets with no or many spaces\n",
    "    ]\n",
    "\n",
    "    for replacement in replacements:\n",
    "        df = replaceLyricsChars(df, what=replacement[\"original\"], to=replacement[\"replacement\"], regex=replacement[\"use_regex\"])\n",
    "\n",
    "    return df"
   ]
  },
  {
   "cell_type": "code",
   "execution_count": null,
   "metadata": {},
   "outputs": [],
   "source": [
    "lyrics_df = clean_lyrics_df(lyrics_df)\n",
    "lyrics_df.head(10)"
   ]
  },
  {
   "cell_type": "code",
   "execution_count": 15,
   "metadata": {},
   "outputs": [],
   "source": [
    "#Save the resulting dataframe\n",
    "lyrics_df.to_csv(\"./Resources/cleaned_lyrics.csv\", index=False)"
   ]
  }
 ],
 "metadata": {
  "kernelspec": {
   "display_name": "dev",
   "language": "python",
   "name": "python3"
  },
  "language_info": {
   "codemirror_mode": {
    "name": "ipython",
    "version": 3
   },
   "file_extension": ".py",
   "mimetype": "text/x-python",
   "name": "python",
   "nbconvert_exporter": "python",
   "pygments_lexer": "ipython3",
   "version": "3.10.13"
  }
 },
 "nbformat": 4,
 "nbformat_minor": 2
}
